{
 "cells": [
  {
   "cell_type": "code",
   "execution_count": 2,
   "metadata": {
    "scrolled": true
   },
   "outputs": [
    {
     "ename": "IOError",
     "evalue": "[Errno 2] No such file or directory: 'test_pots0.csv'",
     "output_type": "error",
     "traceback": [
      "\u001b[0;31m---------------------------------------------------------------------------\u001b[0m",
      "\u001b[0;31mIOError\u001b[0m                                   Traceback (most recent call last)",
      "\u001b[0;32m<ipython-input-2-cdbc29e7ba4d>\u001b[0m in \u001b[0;36m<module>\u001b[0;34m()\u001b[0m\n\u001b[1;32m     14\u001b[0m \u001b[0;31m#python needs pointers\u001b[0m\u001b[0;34m\u001b[0m\u001b[0;34m\u001b[0m\u001b[0m\n\u001b[1;32m     15\u001b[0m \u001b[0;32mfor\u001b[0m \u001b[0mi\u001b[0m \u001b[0;32min\u001b[0m \u001b[0mrange\u001b[0m\u001b[0;34m(\u001b[0m\u001b[0mseedmax\u001b[0m\u001b[0;34m)\u001b[0m\u001b[0;34m:\u001b[0m\u001b[0;34m\u001b[0m\u001b[0m\n\u001b[0;32m---> 16\u001b[0;31m     \u001b[0;32mwith\u001b[0m \u001b[0mopen\u001b[0m\u001b[0;34m(\u001b[0m\u001b[0;34m'test_pots'\u001b[0m\u001b[0;34m+\u001b[0m\u001b[0mstr\u001b[0m\u001b[0;34m(\u001b[0m\u001b[0mi\u001b[0m\u001b[0;34m)\u001b[0m\u001b[0;34m+\u001b[0m\u001b[0;34m'.csv'\u001b[0m\u001b[0;34m,\u001b[0m \u001b[0;34m'r'\u001b[0m\u001b[0;34m)\u001b[0m \u001b[0;32mas\u001b[0m \u001b[0mcsvfile\u001b[0m\u001b[0;34m:\u001b[0m\u001b[0;34m\u001b[0m\u001b[0m\n\u001b[0m\u001b[1;32m     17\u001b[0m         \u001b[0mflurg\u001b[0m \u001b[0;34m=\u001b[0m \u001b[0mcsv\u001b[0m\u001b[0;34m.\u001b[0m\u001b[0mreader\u001b[0m\u001b[0;34m(\u001b[0m\u001b[0mcsvfile\u001b[0m\u001b[0;34m)\u001b[0m\u001b[0;34m\u001b[0m\u001b[0m\n\u001b[1;32m     18\u001b[0m         \u001b[0;32mfor\u001b[0m \u001b[0mrow\u001b[0m \u001b[0;32min\u001b[0m \u001b[0mflurg\u001b[0m\u001b[0;34m:\u001b[0m\u001b[0;34m\u001b[0m\u001b[0m\n",
      "\u001b[0;31mIOError\u001b[0m: [Errno 2] No such file or directory: 'test_pots0.csv'"
     ]
    }
   ],
   "source": [
    "# Reads the potential training data & sets up a neural network w/ 2 hidden layers\n",
    "\n",
    "import csv\n",
    "import numpy as np\n",
    "import tensorflow as tf\n",
    "\n",
    "bins = 128\n",
    "seedmax = 20 # opens seed files 0 - 19\n",
    "trainx = []\n",
    "trainy = []\n",
    "validx = []\n",
    "validy = []\n",
    "\n",
    "#python needs pointers\n",
    "for i in range(seedmax):\n",
    "    with open('test_pots'+str(i)+'.csv', 'r') as csvfile:\n",
    "        flurg = csv.reader(csvfile)\n",
    "        for row in flurg:\n",
    "            trainx.append([float(num) for num in row])\n",
    "    with open('test_out'+str(i)+'.csv', 'r') as csvfile:\n",
    "        flurg = csv.reader(csvfile)\n",
    "        for row in flurg:\n",
    "            trainy.append([float(num) for num in row])\n",
    "    with open('valid_pots'+str(i)+'.csv', 'r') as csvfile:\n",
    "        flurg = csv.reader(csvfile)\n",
    "        for row in flurg:\n",
    "            validx.append([float(num) for num in row])\n",
    "    with open('valid_out'+str(i)+'.csv', 'r') as csvfile:\n",
    "        flurg = csv.reader(csvfile)\n",
    "        for row in flurg:\n",
    "            validy.append([float(num) for num in row])\n",
    "\n",
    "seed = 42\n",
    "np.random.seed(seed)\n",
    "tf.set_random_seed(seed)\n",
    "#have a decaying learning rate so that convergence is faster at first and the fit is better at the end.\n",
    "#However, by trial and error, the simple exponential decay doesn't work well.\n",
    "#Trying a method by which the decay happens at hand-specified intervals\n",
    "startrate = 0.125\n",
    "gs = 0\n",
    "gslist = [1,1,2,3,10,20,40,100,200,10000]\n",
    "ic = 0\n",
    "learnrate = tf.Variable(startrate, trainable=False)\n",
    "updatelearnrate = tf.assign(learnrate,tf.multiply(learnrate,0.75))\n",
    "# set up neural network layers. There are shorter ways to do it, but this exposes the guts.\n",
    "X = tf.placeholder(tf.float32)\n",
    "Y = tf.placeholder(tf.float32)\n",
    "#1st hidden layer\n",
    "W1 = tf.Variable(tf.random_uniform([bins-1, bins-1], -1./bins, 1./bins))\n",
    "B1 = tf.Variable(tf.random_uniform([bins-1], -1., 1.))\n",
    "L1 = tf.nn.softplus(tf.matmul(X, W1) + B1)\n",
    "#2nd hidden layer\n",
    "W2 = tf.Variable(tf.random_uniform([bins-1, bins-1], -1./bins, 1./bins))\n",
    "B2 = tf.Variable(tf.random_uniform([bins-1], -1., 1.))\n",
    "L2 = tf.nn.softplus(tf.matmul(L1, W2) + B2)\n",
    "#Output layer\n",
    "W3 = tf.Variable(tf.random_uniform([bins-1, bins-1], -1./bins, 1./bins))\n",
    "B3 = tf.Variable(tf.random_uniform([bins-1], -1., 1.))\n",
    "L3 = tf.nn.softplus(tf.matmul(L2, W3) + B3)\n",
    "#Cost function\n",
    "costfunc = tf.reduce_mean(tf.square(tf.subtract(L3,Y)))\n",
    "optimizer = tf.train.GradientDescentOptimizer(learnrate)\n",
    "trainstep = optimizer.minimize(costfunc)\n",
    "#initialize\n",
    "init = tf.global_variables_initializer()\n",
    "sess = tf.Session()\n",
    "sess.run(init)\n",
    "\n",
    "for step in range(100000):\n",
    "    if step % 150 == 0:\n",
    "        if ic == gslist[gs]:\n",
    "            gs = gs + 1\n",
    "            ic = 1\n",
    "            sess.run(updatelearnrate)\n",
    "        else:\n",
    "            ic = ic + 1\n",
    "    if step %100 == 0:\n",
    "        print step, 'Train loss: ',sess.run(costfunc,feed_dict={X: trainx, Y: trainy}), 'Valid loss: ',sess.run(costfunc,feed_dict={X: validx, Y: validy})\n",
    "    sess.run(trainstep, feed_dict={X: trainx, Y: trainy})\n"
   ]
  },
  {
   "cell_type": "code",
   "execution_count": null,
   "metadata": {
    "collapsed": true
   },
   "outputs": [],
   "source": []
  }
 ],
 "metadata": {
  "kernelspec": {
   "display_name": "Python 2",
   "language": "python",
   "name": "python2"
  },
  "language_info": {
   "codemirror_mode": {
    "name": "ipython",
    "version": 2
   },
   "file_extension": ".py",
   "mimetype": "text/x-python",
   "name": "python",
   "nbconvert_exporter": "python",
   "pygments_lexer": "ipython2",
   "version": "2.7.13"
  }
 },
 "nbformat": 4,
 "nbformat_minor": 2
}
