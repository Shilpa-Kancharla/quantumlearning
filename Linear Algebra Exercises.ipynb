{
 "cells": [
  {
   "cell_type": "code",
   "execution_count": 7,
   "metadata": {},
   "outputs": [
    {
     "data": {
      "text/plain": [
       "[[7.0, 0.0], [17.0, -2.0]]"
      ]
     },
     "execution_count": 7,
     "metadata": {},
     "output_type": "execute_result"
    }
   ],
   "source": [
    "v = [-1.0,3.0]\n",
    "A = [[1.0,2.0],[3.0,4.0]]\n",
    "B = [[3.0,-2.0],[2.0,1.0]]\n",
    "C = [[1.0,1.5,-2.0],[2.0,1.0,-1.0],[3.0,-1.0,2.0]]\n",
    "[[A[i][j]+B[i][j] for j in range(len(B[0]))] for i in range(len(A))]  # the matrix A+B\n",
    "sum(v[i]*v[i] for i in range(len(v)))  # the dot product v.v\n",
    "[sum(A[i][j]*v[j] for j in range(len(v))) for i in range(len(A))]  # the vector A*v\n",
    "[[sum(A[i][k]*B[k][j] for k in range(len(B))) for j in range(len(B[0]))] for i in range(len(A))]  # the matrix A*B"
   ]
  },
  {
   "cell_type": "code",
   "execution_count": 8,
   "metadata": {},
   "outputs": [
    {
     "name": "stdout",
     "output_type": "stream",
     "text": [
      "[   -1.0000    3.0000]\n"
     ]
    }
   ],
   "source": [
    "import string\n",
    "def vectfmt(thevect, fmt):\n",
    "    return string.join(['[']+[fmt.format(x) for x in thevect]+[']'],'')\n",
    "\n",
    "def matfmt(themat, fmt):\n",
    "    return string.join([vectfmt(x,fmt)+'\\n' for x in themat],'')\n",
    "\n",
    "print vectfmt(v, '{:10.4f}')"
   ]
  },
  {
   "cell_type": "code",
   "execution_count": 9,
   "metadata": {},
   "outputs": [
    {
     "name": "stdout",
     "output_type": "stream",
     "text": [
      "[  3.0000 -2.0000]\n",
      "[  2.0000  1.0000]\n",
      "\n"
     ]
    }
   ],
   "source": [
    "print matfmt(B, '{:8.4f}')"
   ]
  },
  {
   "cell_type": "code",
   "execution_count": 10,
   "metadata": {},
   "outputs": [
    {
     "name": "stdout",
     "output_type": "stream",
     "text": [
      "[  1.0000  1.5000 -2.0000]\n",
      "[  0.0000 -2.0000  3.0000]\n",
      "[  3.0000 -1.0000  2.0000]\n",
      "\n"
     ]
    }
   ],
   "source": [
    "#Solving Linear Systems\n",
    "C[1] = [C[1][i]-2.0*C[0][i] for i in range(len(C[0]))]\n",
    "print matfmt(C, '{:8.4f}')"
   ]
  },
  {
   "cell_type": "code",
   "execution_count": 11,
   "metadata": {},
   "outputs": [
    {
     "name": "stdout",
     "output_type": "stream",
     "text": [
      "[  1.0000  1.5000 -2.0000]\n",
      "[  0.0000 -2.0000  3.0000]\n",
      "[  3.0000 -1.0000  2.0000]\n",
      "\n"
     ]
    }
   ],
   "source": [
    "#Gaussian Elimination\n",
    "C = [[1.0,1.5,-2.0],[2.0,1.0,-1.0],[3.0,-1.0,2.0]]\n",
    "m = C[1][0]/C[0][0]   # Ratio of (1,0) element by (0,0) element\n",
    "C[1] = [C[1][i]-m*C[0][i] for i in range(len(C[0]))]\n",
    "print matfmt(C,'{:8.4f}')"
   ]
  },
  {
   "cell_type": "code",
   "execution_count": 12,
   "metadata": {},
   "outputs": [
    {
     "name": "stdout",
     "output_type": "stream",
     "text": [
      "[  1.0000  1.5000 -2.0000]\n",
      "[  0.0000 -2.0000  3.0000]\n",
      "[  0.0000 -5.5000  8.0000]\n",
      "\n"
     ]
    }
   ],
   "source": [
    "m = C[2][0]/C[0][0]   # Ratio of (2,0) element by (0,0) element\n",
    "C[2] = [C[2][i]-m*C[0][i] for i in range(len(C[0]))]\n",
    "print matfmt(C,'{:8.4f}')"
   ]
  },
  {
   "cell_type": "code",
   "execution_count": 13,
   "metadata": {},
   "outputs": [
    {
     "name": "stdout",
     "output_type": "stream",
     "text": [
      "[  1.0000  1.5000 -2.0000]\n",
      "[  0.0000 -2.0000  3.0000]\n",
      "[  0.0000  0.0000 -0.2500]\n",
      "\n"
     ]
    }
   ],
   "source": [
    "m = C[2][1]/C[1][1]   # Ratio of (2,1) element by (0,1) element\n",
    "C[2] = [C[2][i]-m*C[1][i] for i in range(len(C[1]))]\n",
    "print matfmt(C,'{:8.4f}')"
   ]
  },
  {
   "cell_type": "code",
   "execution_count": 14,
   "metadata": {
    "collapsed": true
   },
   "outputs": [],
   "source": [
    "def gausselim1(themat): #Diagonalization of the matrix\n",
    "    for i in range(len(themat[0])):\n",
    "        for j in range(i+1,len(themat)):\n",
    "            m = themat[j][i]/themat[i][i]   # Ratio of (i,j) elt by (i,i) (diagonal) elt\n",
    "            themat[j] = [themat[j][k]-m*themat[i][k] for k in range(len(themat[0]))]"
   ]
  },
  {
   "cell_type": "code",
   "execution_count": 15,
   "metadata": {
    "collapsed": true
   },
   "outputs": [],
   "source": [
    "#Back substitution\n",
    "def gausselim2(themat): # Basic row pivoting\n",
    "    m = len(themat); n = len(themat[0])\n",
    "    for j in range(min(n,m)):  # for each column on the main diag\n",
    "        if(themat[j][j]==0): # Find a non-zero pivot and swap rows\n",
    "            thecolumn = [themat[k][j] for k in range(j,m)]\n",
    "            ipivot = thecolumn.index(max(thecolumn))\n",
    "            temp = themat[j]; themat[j] = themat[ipivot]; themat[ipivot] = temp\n",
    "        for i in range(j+1,m):\n",
    "            c = themat[i][j]/themat[j][j]   # Ratio of (i,j) elt by (j,j) (diagonal) elt\n",
    "            themat[i] = [themat[i][k]-c*themat[j][k] for k in range(n)]\n",
    "    return themat"
   ]
  },
  {
   "cell_type": "code",
   "execution_count": null,
   "metadata": {
    "collapsed": true
   },
   "outputs": [],
   "source": [
    "#Triangularization & LU decomposition\n",
    "def TriSimple(mm):  # Simple matrix triangularization, fields, no pivoting\n",
    "        n = len(mm); m = len(mm[0]); \n",
    "        for i in range(min(n,m)):\n",
    "                print map(lambda y: map(lambda x:\"{0:.2f}\".format(x),y),mm)\n",
    "                for j in range(i+1,n):\n",
    "                        for k in range(i,m):\n",
    "                                mm[j][k] = mm[j][k] - (mm[j][i]/mm[i][i])*mm[i][k]\n",
    "        return mm"
   ]
  }
 ],
 "metadata": {
  "kernelspec": {
   "display_name": "Python 2",
   "language": "python",
   "name": "python2"
  },
  "language_info": {
   "codemirror_mode": {
    "name": "ipython",
    "version": 2
   },
   "file_extension": ".py",
   "mimetype": "text/x-python",
   "name": "python",
   "nbconvert_exporter": "python",
   "pygments_lexer": "ipython2",
   "version": "2.7.13"
  }
 },
 "nbformat": 4,
 "nbformat_minor": 2
}
